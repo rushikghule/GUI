{
 "cells": [
  {
   "cell_type": "code",
   "execution_count": null,
   "id": "1845613b",
   "metadata": {},
   "outputs": [],
   "source": [
    "from tkinter import *\n",
    "import imageio\n",
    "from PIL import Image, ImageTk\n",
    "\n",
    "window = Tk()\n",
    "window.geometry(\"2000x2000\")\n",
    "window.title(\"First GUI Application\")\n",
    "\n",
    "def stream():\n",
    "    \n",
    "    try:\n",
    "        image = video.get_next_data()\n",
    "        frame_image = Image.fromarray(image)\n",
    "        frame_image=ImageTk.PhotoImage(frame_image)\n",
    "        l1.config(image=frame_image)\n",
    "        l1.image = frame_image\n",
    "        l1.after(delay, lambda: stream())\n",
    "    except:\n",
    "        return\n",
    "    \n",
    "def end1():\n",
    "    video.close()\n",
    "    \n",
    "frame =Frame(window, width=10, height=10, bg=\"black\")\n",
    "frame.place(x=70,y=30) \n",
    "\n",
    "l1 = Label(frame)\n",
    "l1.pack()\n",
    "frame.pack()\n",
    "\n",
    "redbutton = Button(window, text = \"start\", fg = \"red\",width=10,height=3,command=stream)  \n",
    "redbutton.place(x=70,y=300)  \n",
    "\n",
    "Greenbutton = Button(window, text = \"End\", fg = \"green\",width=10,height=3,command=end1)  \n",
    "Greenbutton.place(x=70,y=400)  \n",
    "\n",
    "video_name = \"WhatsApp Video 2023-03-05 at 1.12.13 AM.mp4\"   #video-path\n",
    "video = imageio.get_reader(video_name)\n",
    "delay = int(1000 / video.get_meta_data()['fps'])\n",
    "#stream()\n",
    "\n",
    "window.mainloop()"
   ]
  },
  {
   "cell_type": "code",
   "execution_count": null,
   "id": "f117d548",
   "metadata": {},
   "outputs": [],
   "source": []
  }
 ],
 "metadata": {
  "kernelspec": {
   "display_name": "Python 3 (ipykernel)",
   "language": "python",
   "name": "python3"
  },
  "language_info": {
   "codemirror_mode": {
    "name": "ipython",
    "version": 3
   },
   "file_extension": ".py",
   "mimetype": "text/x-python",
   "name": "python",
   "nbconvert_exporter": "python",
   "pygments_lexer": "ipython3",
   "version": "3.9.13"
  }
 },
 "nbformat": 4,
 "nbformat_minor": 5
}
